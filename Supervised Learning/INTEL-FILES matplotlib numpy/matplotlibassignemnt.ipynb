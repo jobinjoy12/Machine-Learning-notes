{
 "cells": [
  {
   "cell_type": "code",
   "execution_count": 8,
   "id": "62a92c3e-9c6b-4a54-9b7e-817c3bb86802",
   "metadata": {},
   "outputs": [
    {
     "data": {
      "text/plain": [
       "array([ 0.,  1.,  2.,  3.,  4.,  5.,  6.,  7.,  8.,  9., 10.])"
      ]
     },
     "execution_count": 8,
     "metadata": {},
     "output_type": "execute_result"
    }
   ],
   "source": [
    "m = np.linspace(0,10,11)\n",
    "m"
   ]
  },
  {
   "cell_type": "code",
   "execution_count": 19,
   "id": "17c4a987-c7ba-4f2c-975a-950d45b018c0",
   "metadata": {},
   "outputs": [
    {
     "data": {
      "text/plain": [
       "array([0.0e+00, 9.0e+16, 1.8e+17, 2.7e+17, 3.6e+17, 4.5e+17, 5.4e+17,\n",
       "       6.3e+17, 7.2e+17, 8.1e+17, 9.0e+17])"
      ]
     },
     "execution_count": 19,
     "metadata": {},
     "output_type": "execute_result"
    }
   ],
   "source": [
    "E = np.array([0.0e+00, 9.0e+16, 1.8e+17, 2.7e+17, 3.6e+17, 4.5e+17, 5.4e+17, 6.3e+17, 7.2e+17, 8.1e+17, 9.0e+17])\n",
    "E"
   ]
  },
  {
   "cell_type": "markdown",
   "id": "bb885f4b-781d-4749-bb03-cf5bb4de8cb0",
   "metadata": {},
   "source": [
    "# PART 2 PLOT E=MC^2"
   ]
  },
  {
   "cell_type": "markdown",
   "id": "c4e9be0a-e768-4932-8eca-9c83eed07e1b",
   "metadata": {},
   "source": [
    "Now that we have the arrays E and m, we can plot this to see the relationship between Energy and Mass"
   ]
  },
  {
   "cell_type": "markdown",
   "id": "a6f6514f-26ff-4ad2-a624-7ae5d8ca1ec1",
   "metadata": {},
   "source": [
    "### TASK: Import what you need from Matplotlib to plot out graphs:"
   ]
  },
  {
   "cell_type": "code",
   "execution_count": 5,
   "id": "53233b23-b272-4126-a555-2b73b010e1d6",
   "metadata": {},
   "outputs": [],
   "source": [
    "import matplotlib.pyplot as plt\n",
    "import numpy as np"
   ]
  },
  {
   "cell_type": "markdown",
   "id": "216d9e58-b76a-4fc0-a422-748b3bbd17d9",
   "metadata": {},
   "source": [
    "#### TASK: Recreate the plot shown below which maps out E=mc^2 using the arrays we created in the previous task. Note the labels, titles, color, and axis limits. You don't need to match perfectly, but you should attempt to re-create each major component."
   ]
  },
  {
   "cell_type": "code",
   "execution_count": 36,
   "id": "78cbb0d0-5f80-4e3b-a8ed-2084d97f3347",
   "metadata": {},
   "outputs": [
    {
     "data": {
      "image/png": "[encoded data removed]",
      "text/plain": [
       "<Figure size 640x480 with 1 Axes>"
      ]
     },
     "metadata": {},
     "output_type": "display_data"
    }
   ],
   "source": [
    "fig = plt.figure()\n",
    "ax = fig.add_axes([0.25,0.25,0.5,0.5])\n",
    "ax.plot(E,m,'red',lw = 3)\n",
    "ax.set_xlabel('Mass in grams')\n",
    "ax.set_ylabel('Energy in joules')\n",
    "ax.set_title('E=mc^2')\n",
    "\n",
    "plt.show()"
   ]
  },
  {
   "cell_type": "markdown",
   "id": "9f65a396-dfd7-4f1a-8cbd-694ea2b1b1c8",
   "metadata": {},
   "source": [
    "## Part Three (BONUS)"
   ]
  },
  {
   "cell_type": "markdown",
   "id": "af3f1cdb-d9ad-4d01-9be0-583e74e7c2c4",
   "metadata": {},
   "source": [
    "### Can you figure out how to plot this on a logarthimic scale on the y axis? Place a grid along they axis ticks as well. We didn't show this in the videos, but you should be able to figure this outby referencing Google, StackOverflow, Matplotlib Docs, or even our \"Additional MatplotlibCommands” notebook. The plot we show here only required two more lines of code for thechanges."
   ]
  },
  {
   "cell_type": "code",
   "execution_count": null,
   "id": "cc0de589-5c35-4e4b-b70b-3add5d1e581a",
   "metadata": {},
   "outputs": [],
   "source": []
  },
  {
   "cell_type": "markdown",
   "id": "ad15f321-82e7-41fd-b3c1-fd429a4120f1",
   "metadata": {},
   "source": [
    "## Task Two: Creating plots from data points"
   ]
  },
  {
   "cell_type": "markdown",
   "id": "07e617e6-5654-4d35-9a5d-37004a170551",
   "metadata": {},
   "source": [
    "In finance, the yield curve is a curve showing several yields to maturity or interest rates across different contract lengths (2 month, 2 year, 20 year, etc. ...) for a similar debt contract. The curve shows the relation between the (level of the) interest rate (or cost of borrowing) and the time to maturity, known as the \"term\", of the debt for a given borrower in a given currency.\n",
    "\n",
    "The U.S. dollar interest rates paid on U.S. Treasury securities for various maturities are closely\n",
    "watched by many traders, and are commonly plotted on a graph such as the one on the right, which is informally called \"the yield curve\".\n",
    "\n",
    "### For this exercise, we will give you the data for the yield curves at two separate points in time. Then we will ask you to create some plots from this data.\n",
    "\n",
    "## Part One: Yield Curve Data"
   ]
  },
  {
   "cell_type": "markdown",
   "id": "caecd371-d49d-416b-8884-050c4208df54",
   "metadata": {},
   "source": [
    "### We've obtained some yeild curve data for you from the US Treasury Dept.. The data shows the interest paid for a US Treasury bond for a certain contract length. The labels list shows the corresponding contract length per index position.\n",
    "\n",
    "### TASK: Run the cell below to create the lists for plotting."
   ]
  },
  {
   "cell_type": "code",
   "execution_count": 41,
   "id": "41c190a0-29e5-4bf9-85a2-0c116176e15b",
   "metadata": {},
   "outputs": [],
   "source": [
    "labels = ['1 Mo','3 Mo’','6 Mo','1 Yr','2 Yr','3 Yr','5 Yr','7 Yr','10 Yr','20 Yr','30 Y']\n",
    "\n",
    "july16_2007 =[4.75,4.98,5.08,5.01,4.89,4.89,4.95,4.99,5.05,5.21,5.14]\n",
    "july16_2020 = [0.12,0.11,0.13,0.14,0.16,0.17,0.28,0.46,0.62,1.09,1.31]"
   ]
  },
  {
   "cell_type": "markdown",
   "id": "310e811f-406b-4af0-851d-b7508edfd195",
   "metadata": {},
   "source": [
    "### TASK: Figure out how to plot both curves on the same Figure. Add a legend to show which curves corresponds to a certain year\n"
   ]
  },
  {
   "cell_type": "code",
   "execution_count": null,
   "id": "b0584ee4-7bc5-4589-8acf-268a1f801a5f",
   "metadata": {},
   "outputs": [],
   "source": []
  },
  {
   "cell_type": "markdown",
   "id": "7b5c3da8-4454-4818-9eac-2544ad4ba093",
   "metadata": {},
   "source": [
    "### TASK: The legend in the plot above looks a little strange in the middle of the curves. While it is not blocking anything, it would be nicer if it were outside the plot. Figure out how to move the legend outside the main Figure plot."
   ]
  },
  {
   "cell_type": "code",
   "execution_count": null,
   "id": "9793fa63-e2a7-4018-913d-176309628af2",
   "metadata": {},
   "outputs": [],
   "source": []
  },
  {
   "cell_type": "markdown",
   "id": "97a73063-623d-4216-ab0d-c12481c93cf7",
   "metadata": {},
   "source": [
    "### TASK: While the plot above clearly shows how rates fell from 2007 to 2020, putting these on the same plot makes it difficult to discern the rate differences within the same year. Use suplots() to create the plot figure below, which shows each year's yield curve."
   ]
  },
  {
   "cell_type": "code",
   "execution_count": null,
   "id": "b8fc98d1-cb96-40ed-a68a-0a18d7460acf",
   "metadata": {},
   "outputs": [],
   "source": []
  },
  {
   "cell_type": "markdown",
   "id": "d639cf3c-10e1-4ebb-a436-ff471b4d2d95",
   "metadata": {},
   "source": [
    "#### BONUS CHALLENGE TASK: Try to recreate the plot below that uses twin axes. While this plot may actually be more confusing than helpful, its a good exercise in Matplotlib control."
   ]
  },
  {
   "cell_type": "code",
   "execution_count": null,
   "id": "2d2a223a-65f0-4ba6-a4e0-77991504beab",
   "metadata": {},
   "outputs": [],
   "source": []
  }
 ],
 "metadata": {
  "kernelspec": {
   "display_name": "Python 3 (Intel® oneAPI 2023.2)",
   "language": "python",
   "name": "c009-intel_distribution_of_python_3_oneapi-beta05-python"
  },
  "language_info": {
   "codemirror_mode": {
    "name": "ipython",
    "version": 3
   },
   "file_extension": ".py",
   "mimetype": "text/x-python",
   "name": "python",
   "nbconvert_exporter": "python",
   "pygments_lexer": "ipython3",
   "version": "3.9.16"
  }
 },
 "nbformat": 4,
 "nbformat_minor": 5
}
