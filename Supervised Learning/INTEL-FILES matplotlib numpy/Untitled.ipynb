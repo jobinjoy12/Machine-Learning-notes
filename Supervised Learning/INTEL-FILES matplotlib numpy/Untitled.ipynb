{
 "cells": [
  {
   "cell_type": "code",
   "execution_count": 1,
   "id": "17e91594-e6f1-4142-9516-3301238c50a6",
   "metadata": {},
   "outputs": [
    {
     "data": {
      "text/plain": [
       "2401"
      ]
     },
     "execution_count": 1,
     "metadata": {},
     "output_type": "execute_result"
    }
   ],
   "source": [
    "7 ** 4"
   ]
  },
  {
   "cell_type": "code",
   "execution_count": 2,
   "id": "4c2c13ff-7738-4427-8382-5f7577755999",
   "metadata": {},
   "outputs": [],
   "source": [
    "s = 'Hi there sam!'"
   ]
  },
  {
   "cell_type": "code",
   "execution_count": 3,
   "id": "13d4d8b0-32f3-4fdf-99c4-f94a17b9dba6",
   "metadata": {},
   "outputs": [],
   "source": [
    "x=s.split()"
   ]
  },
  {
   "cell_type": "code",
   "execution_count": 4,
   "id": "830725e8-1774-4958-a386-01f09dc5408b",
   "metadata": {},
   "outputs": [
    {
     "name": "stdout",
     "output_type": "stream",
     "text": [
      "['Hi', 'there', 'sam!']\n"
     ]
    }
   ],
   "source": [
    "print(x)"
   ]
  },
  {
   "cell_type": "code",
   "execution_count": 5,
   "id": "3b5baf2b-664a-4baf-b187-11890e72bee7",
   "metadata": {},
   "outputs": [],
   "source": [
    "planet = 'earth'"
   ]
  },
  {
   "cell_type": "code",
   "execution_count": 6,
   "id": "fbb32855-6985-4dce-9cf7-66f27877c4a8",
   "metadata": {},
   "outputs": [],
   "source": [
    "diameter = 12742"
   ]
  },
  {
   "cell_type": "code",
   "execution_count": 7,
   "id": "b6d78c2e-92f5-474a-afdc-4d08676d208c",
   "metadata": {},
   "outputs": [
    {
     "name": "stdout",
     "output_type": "stream",
     "text": [
      "the diameter of earth ios 12742\n"
     ]
    }
   ],
   "source": [
    "print('the diameter of {one} ios {two}'.format(one=planet,two=diameter))"
   ]
  },
  {
   "cell_type": "code",
   "execution_count": 8,
   "id": "afad88c6-2fa1-47e3-839a-58a78f8d6282",
   "metadata": {},
   "outputs": [],
   "source": [
    "lst = [1,2,[3,4],[5,[100,200,['hello']],23,11],1,7]"
   ]
  },
  {
   "cell_type": "code",
   "execution_count": 9,
   "id": "693713b4-4bdd-4eca-9805-26cabcf45caf",
   "metadata": {},
   "outputs": [
    {
     "data": {
      "text/plain": [
       "'hello'"
      ]
     },
     "execution_count": 9,
     "metadata": {},
     "output_type": "execute_result"
    }
   ],
   "source": [
    "lst[3][1][2][0]"
   ]
  },
  {
   "cell_type": "code",
   "execution_count": 10,
   "id": "b0b8da99-e53f-4980-be22-f5f414850685",
   "metadata": {},
   "outputs": [],
   "source": [
    "d = {'k1' :[1,2,3,{'tricky':['oh','man','inception',{'target':[1,2,3,'hello']}]}]}"
   ]
  },
  {
   "cell_type": "code",
   "execution_count": 11,
   "id": "192a700d-9b20-418f-bac0-44f1fd6612fa",
   "metadata": {},
   "outputs": [
    {
     "data": {
      "text/plain": [
       "'hello'"
      ]
     },
     "execution_count": 11,
     "metadata": {},
     "output_type": "execute_result"
    }
   ],
   "source": [
    " d['k1'][3]['tricky'][3]['target'][3]"
   ]
  },
  {
   "cell_type": "code",
   "execution_count": 12,
   "id": "bb369f9e-55cc-43e6-a172-ceae49272ea2",
   "metadata": {},
   "outputs": [],
   "source": [
    "# tuple is immutable"
   ]
  },
  {
   "cell_type": "code",
   "execution_count": 13,
   "id": "682200c5-62fa-473b-b508-7c43b6a5f64f",
   "metadata": {},
   "outputs": [],
   "source": [
    "def get_domain(email):\n",
    "    domain = email.split('@')[-1]\n",
    "    return domain"
   ]
  },
  {
   "cell_type": "code",
   "execution_count": 14,
   "id": "4a4a6986-9e3d-4951-bb4b-f4d05e08efde",
   "metadata": {},
   "outputs": [],
   "source": [
    "email = 'jobin@gmail.com'"
   ]
  },
  {
   "cell_type": "code",
   "execution_count": 15,
   "id": "2071663f-3f11-43db-bdeb-a5079a84f633",
   "metadata": {},
   "outputs": [],
   "source": [
    "domain = get_domain(email)"
   ]
  },
  {
   "cell_type": "code",
   "execution_count": 16,
   "id": "db795971-26f5-4139-9ecd-5616d76b94eb",
   "metadata": {},
   "outputs": [
    {
     "name": "stdout",
     "output_type": "stream",
     "text": [
      "gmail.com\n"
     ]
    }
   ],
   "source": [
    "print(domain)"
   ]
  },
  {
   "cell_type": "code",
   "execution_count": 21,
   "id": "f4a9a5dd-06b2-4244-94d3-e3b25c978527",
   "metadata": {},
   "outputs": [],
   "source": [
    "def findDog(s):\n",
    "    lower_s = s.lower()\n",
    "    return 'dog' in lower_s"
   ]
  },
  {
   "cell_type": "code",
   "execution_count": 22,
   "id": "32601349-4b83-4994-9fc2-fc6b399a948a",
   "metadata": {},
   "outputs": [
    {
     "data": {
      "text/plain": [
       "True"
      ]
     },
     "execution_count": 22,
     "metadata": {},
     "output_type": "execute_result"
    }
   ],
   "source": [
    "findDog('Is there a dog here?')"
   ]
  },
  {
   "cell_type": "code",
   "execution_count": 25,
   "id": "1a913cbe-f6d8-42ed-a521-c49f460e5579",
   "metadata": {},
   "outputs": [],
   "source": [
    "def countDog(s):\n",
    "    lower_s = s.lower()\n",
    "    return lower_s.count('dog')"
   ]
  },
  {
   "cell_type": "code",
   "execution_count": 26,
   "id": "16732f72-787e-4a4d-9bc3-ff48796b83b7",
   "metadata": {},
   "outputs": [
    {
     "data": {
      "text/plain": [
       "2"
      ]
     },
     "execution_count": 26,
     "metadata": {},
     "output_type": "execute_result"
    }
   ],
   "source": [
    "countDog('This dog runs faster than the other dog dude!')"
   ]
  },
  {
   "cell_type": "code",
   "execution_count": 27,
   "id": "e77210ee-4b90-4840-adbc-0bd428a0a9b8",
   "metadata": {},
   "outputs": [],
   "source": [
    "seq = ['soup', 'dog', 'salad', 'cat', 'great']"
   ]
  },
  {
   "cell_type": "code",
   "execution_count": 28,
   "id": "788c8d40-24a2-43fc-882e-b4997b2aa473",
   "metadata": {},
   "outputs": [],
   "source": [
    "filtered_seq = list(filter(lambda word: word[0] == 's', seq))"
   ]
  },
  {
   "cell_type": "code",
   "execution_count": 29,
   "id": "26ca5f07-35fb-4ecd-9c7c-d09bb105df2e",
   "metadata": {},
   "outputs": [
    {
     "name": "stdout",
     "output_type": "stream",
     "text": [
      "['soup', 'salad']\n"
     ]
    }
   ],
   "source": [
    "print(filtered_seq)"
   ]
  },
  {
   "cell_type": "code",
   "execution_count": null,
   "id": "48d8a8b8-de3c-4b15-a33b-44fd2c7b8421",
   "metadata": {},
   "outputs": [],
   "source": []
  }
 ],
 "metadata": {
  "kernelspec": {
   "display_name": "Python 3 (Intel® oneAPI 2023.2)",
   "language": "python",
   "name": "c009-intel_distribution_of_python_3_oneapi-beta05-python"
  },
  "language_info": {
   "codemirror_mode": {
    "name": "ipython",
    "version": 3
   },
   "file_extension": ".py",
   "mimetype": "text/x-python",
   "name": "python",
   "nbconvert_exporter": "python",
   "pygments_lexer": "ipython3",
   "version": "3.9.16"
  }
 },
 "nbformat": 4,
 "nbformat_minor": 5
}
