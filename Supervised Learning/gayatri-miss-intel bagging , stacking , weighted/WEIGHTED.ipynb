{
 "cells": [
  {
   "cell_type": "code",
   "execution_count": 2,
   "metadata": {
    "id": "U3aRP_Yf-oi9"
   },
   "outputs": [
    {
     "name": "stderr",
     "output_type": "stream",
     "text": [
      "/home/u213917/tmp/ipykernel_762013/931143720.py:2: DeprecationWarning: \n",
      "Pyarrow will become a required dependency of pandas in the next major release of pandas (pandas 3.0),\n",
      "(to allow more performant data types, such as the Arrow string type, and better interoperability with other libraries)\n",
      "but was not found to be installed on your system.\n",
      "If this would cause problems for you,\n",
      "please provide us feedback at https://github.com/pandas-dev/pandas/issues/54466\n",
      "        \n",
      "  import pandas as pd\n",
      "Intel(R) Extension for Scikit-learn* enabled (https://github.com/intel/scikit-learn-intelex)\n"
     ]
    }
   ],
   "source": [
    "# IMPORTS\n",
    "import pandas as pd\n",
    "import numpy as np\n",
    "from sklearn.tree import DecisionTreeClassifier\n",
    "from sklearn.neighbors import KNeighborsClassifier\n",
    "from sklearn.linear_model import LogisticRegression\n",
    "from sklearn.model_selection import train_test_split\n",
    "import statistics as st\n",
    "import warnings\n",
    "warnings.filterwarnings('ignore')"
   ]
  },
  {
   "cell_type": "code",
   "execution_count": 8,
   "metadata": {},
   "outputs": [
    {
     "data": {
      "text/plain": [
       "<module 'pandas' from '/home/u213917/.local/lib/python3.9/site-packages/pandas/__init__.py'>"
      ]
     },
     "execution_count": 8,
     "metadata": {},
     "output_type": "execute_result"
    }
   ],
   "source": [
    "pd"
   ]
  },
  {
   "cell_type": "code",
   "execution_count": 3,
   "metadata": {
    "id": "Wi0Ya4KK_LY8"
   },
   "outputs": [],
   "source": [
    "# SPLITTING THE DATASET\n",
    "df = pd.read_csv('dataset.csv')\n",
    "x = df.drop('target', axis = 1)\n",
    "y = df['target']\n",
    "x_train, x_test, y_train, y_test = train_test_split(x, y, test_size=0.2, random_state=0)"
   ]
  },
  {
   "cell_type": "code",
   "execution_count": 4,
   "metadata": {
    "id": "6lPMAx19_OlE"
   },
   "outputs": [],
   "source": [
    "# MODELS CREATION\n",
    "model1 = DecisionTreeClassifier()\n",
    "model2 = KNeighborsClassifier()\n",
    "model3= LogisticRegression()\n",
    "\n",
    "model1.fit(x_train,y_train)\n",
    "model2.fit(x_train,y_train)\n",
    "model3.fit(x_train,y_train)\n",
    "\n",
    "pred1=model1.predict_proba(x_test)\n",
    "pred2=model2.predict_proba(x_test)\n",
    "pred3=model3.predict_proba(x_test)\n",
    "\n",
    "finalpred=(pred1*0.3+pred2*0.3+pred3*0.4)"
   ]
  },
  {
   "cell_type": "code",
   "execution_count": 6,
   "metadata": {
    "id": "42Svfb3Z_nzm"
   },
   "outputs": [
    {
     "data": {
      "text/plain": [
       "array([[0.92157718, 0.07842282],\n",
       "       [0.31131006, 0.68868994],\n",
       "       [0.48634743, 0.51365257],\n",
       "       [0.93076295, 0.06923705],\n",
       "       [0.77259802, 0.22740198],\n",
       "       [0.34758048, 0.65241952],\n",
       "       [0.86181541, 0.13818459],\n",
       "       [0.89238534, 0.10761466],\n",
       "       [0.93791184, 0.06208816],\n",
       "       [0.93833643, 0.06166357],\n",
       "       [0.50388203, 0.49611797],\n",
       "       [0.08965815, 0.91034185],\n",
       "       [0.98657121, 0.01342879],\n",
       "       [0.11757779, 0.88242221],\n",
       "       [0.07695959, 0.92304041],\n",
       "       [0.18651345, 0.81348655],\n",
       "       [0.91250028, 0.08749972],\n",
       "       [0.09802658, 0.90197342],\n",
       "       [0.93729141, 0.06270859],\n",
       "       [0.11633029, 0.88366971],\n",
       "       [0.13075261, 0.86924739],\n",
       "       [0.71098049, 0.28901951],\n",
       "       [0.91151161, 0.08848839],\n",
       "       [0.78276958, 0.21723042],\n",
       "       [0.59840358, 0.40159642],\n",
       "       [0.45849767, 0.54150233],\n",
       "       [0.62140403, 0.37859597],\n",
       "       [0.75514955, 0.24485045],\n",
       "       [0.0713223 , 0.9286777 ],\n",
       "       [0.31483523, 0.68516477],\n",
       "       [0.32172435, 0.67827565],\n",
       "       [0.87388868, 0.12611132],\n",
       "       [0.13668168, 0.86331832],\n",
       "       [0.33305342, 0.66694658],\n",
       "       [0.09361331, 0.90638669],\n",
       "       [0.1955318 , 0.8044682 ],\n",
       "       [0.98291178, 0.01708822],\n",
       "       [0.18530306, 0.81469694],\n",
       "       [0.84604151, 0.15395849],\n",
       "       [0.70088405, 0.29911595],\n",
       "       [0.33283916, 0.66716084],\n",
       "       [0.44741686, 0.55258314],\n",
       "       [0.29722452, 0.70277548],\n",
       "       [0.91678972, 0.08321028],\n",
       "       [0.45845008, 0.54154992],\n",
       "       [0.52752445, 0.47247555],\n",
       "       [0.0823643 , 0.9176357 ],\n",
       "       [0.14320782, 0.85679218],\n",
       "       [0.74089326, 0.25910674],\n",
       "       [0.13441197, 0.86558803],\n",
       "       [0.11051291, 0.88948709],\n",
       "       [0.35248518, 0.64751482],\n",
       "       [0.07427527, 0.92572473],\n",
       "       [0.60894326, 0.39105674],\n",
       "       [0.06272295, 0.93727705],\n",
       "       [0.84366573, 0.15633427],\n",
       "       [0.20756161, 0.79243839],\n",
       "       [0.09064288, 0.90935712],\n",
       "       [0.25920157, 0.74079843],\n",
       "       [0.08176522, 0.91823478],\n",
       "       [0.31399862, 0.68600138]])"
      ]
     },
     "execution_count": 6,
     "metadata": {},
     "output_type": "execute_result"
    }
   ],
   "source": [
    "finalpred"
   ]
  },
  {
   "cell_type": "code",
   "execution_count": 16,
   "metadata": {},
   "outputs": [
    {
     "name": "stdout",
     "output_type": "stream",
     "text": [
      "acc:  78.68852459016394\n"
     ]
    }
   ],
   "source": [
    "from sklearn import metrics\n",
    "predictedlabel = np.argmax(finalpred , axis=1)\n",
    "print(\"acc: \",metrics.accuracy_score(y_test,predictedlabel)*100)"
   ]
  },
  {
   "cell_type": "code",
   "execution_count": null,
   "metadata": {},
   "outputs": [],
   "source": []
  }
 ],
 "metadata": {
  "colab": {
   "provenance": []
  },
  "kernelspec": {
   "display_name": "Python 3 (Intel® oneAPI 2023.2)",
   "language": "python",
   "name": "c009-intel_distribution_of_python_3_oneapi-beta05-python"
  },
  "language_info": {
   "codemirror_mode": {
    "name": "ipython",
    "version": 3
   },
   "file_extension": ".py",
   "mimetype": "text/x-python",
   "name": "python",
   "nbconvert_exporter": "python",
   "pygments_lexer": "ipython3",
   "version": "3.9.16"
  }
 },
 "nbformat": 4,
 "nbformat_minor": 4
}
